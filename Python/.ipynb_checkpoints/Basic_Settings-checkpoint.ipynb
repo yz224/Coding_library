{
 "cells": [
  {
   "cell_type": "markdown",
   "metadata": {},
   "source": [
    "## **1.1** Setting working directory and evironment. Loading all libraries needed"
   ]
  },
  {
   "cell_type": "code",
   "execution_count": 13,
   "metadata": {
    "collapsed": false
   },
   "outputs": [],
   "source": [
    "# Importing Library\n",
    "import os # For setting directory\n",
    "import csv # For reading csv files\n",
    "import math # For basic calculation\n",
    "\n",
    "# Environment settings\n",
    "#from __future__ import division # Slove the integer division problem\n",
    "\n",
    "# Changing directory using os library\n",
    "os.chdir('/Users/zhouyikun/Dropbox/Coding_library/Python')"
   ]
  },
  {
   "cell_type": "markdown",
   "metadata": {},
   "source": [
    "# 1.2 Important basic operations"
   ]
  },
  {
   "cell_type": "markdown",
   "metadata": {},
   "source": [
    "### 1.2.1 create variable for number, string, list"
   ]
  },
  {
   "cell_type": "code",
   "execution_count": 12,
   "metadata": {
    "collapsed": false
   },
   "outputs": [
    {
     "name": "stdout",
     "output_type": "stream",
     "text": [
      "1\n",
      "1.66666666667\n"
     ]
    }
   ],
   "source": [
    "# Number\n",
    "Number = 5/4 # Only return integer\n",
    "print Number \n",
    "Number = float(5)/3 # Return float\n",
    "print Number"
   ]
  },
  {
   "cell_type": "code",
   "execution_count": 26,
   "metadata": {
    "collapsed": false
   },
   "outputs": [
    {
     "name": "stdout",
     "output_type": "stream",
     "text": [
      "hello World! It's so good !\n"
     ]
    },
    {
     "data": {
      "text/plain": [
       "\"hello World! It's so good !\""
      ]
     },
     "execution_count": 26,
     "metadata": {},
     "output_type": "execute_result"
    }
   ],
   "source": [
    "# String\n",
    "string = 'hello' + ' ' + 'World!'\n",
    "# Double quote can allow singel quote\n",
    "string = string + \" It's so good !\"\n",
    "print string\n",
    "string"
   ]
  },
  {
   "cell_type": "code",
   "execution_count": 14,
   "metadata": {
    "collapsed": false
   },
   "outputs": [
    {
     "name": "stdout",
     "output_type": "stream",
     "text": [
      "hello World! 1.66666666667\n"
     ]
    }
   ],
   "source": [
    "# Print\n",
    "print string, Number"
   ]
  },
  {
   "cell_type": "code",
   "execution_count": 25,
   "metadata": {
    "collapsed": false
   },
   "outputs": [
    {
     "name": "stdout",
     "output_type": "stream",
     "text": [
      "BJ\n",
      "['BJ', 'SH', 'GZ', 3, 2, 1, 'CQ', [10, 'SZ']]\n"
     ]
    }
   ],
   "source": [
    "# List with []\n",
    "List1 = ['BJ','SH','GZ',3,2,1] # Can take both \n",
    "List1.append('CQ') # Can append item\n",
    "List1.append([10,'SZ']) # Can append list\n",
    "print List1[0] # Call from 0 begin\n",
    "print List1"
   ]
  },
  {
   "cell_type": "code",
   "execution_count": 16,
   "metadata": {
    "collapsed": false
   },
   "outputs": [
    {
     "name": "stdout",
     "output_type": "stream",
     "text": [
      "  range(10)= [0, 1, 2, 3, 4, 5, 6, 7, 8, 9]\n",
      "range(0,10)= [0, 1, 2, 3, 4, 5, 6, 7, 8, 9]\n",
      "range(0,10)= [0, 2, 4, 6, 8]\n",
      "No range(0,10,0.5), only integer\n"
     ]
    }
   ],
   "source": [
    "# List of 'INTEGER' number with range (automatic)\n",
    "print '  range(10)=',range(10) # Including first, not last (9 rather than 10)\n",
    "print 'range(0,10)=',range(0,10) # Including first, not last (9 rather than 10)\n",
    "print 'range(0,10)=',range(0,10,2)\n",
    "print 'No range(0,10,0.5), only integer'"
   ]
  },
  {
   "cell_type": "code",
   "execution_count": 17,
   "metadata": {
    "collapsed": false
   },
   "outputs": [
    {
     "name": "stdout",
     "output_type": "stream",
     "text": [
      "12\n",
      "8\n"
     ]
    }
   ],
   "source": [
    "# Explore Properties\n",
    "print len(string)\n",
    "print len(List1)"
   ]
  },
  {
   "cell_type": "markdown",
   "metadata": {
    "collapsed": true
   },
   "source": [
    "### 1.2.2 Basic Operations"
   ]
  },
  {
   "cell_type": "code",
   "execution_count": 18,
   "metadata": {
    "collapsed": false
   },
   "outputs": [
    {
     "name": "stdout",
     "output_type": "stream",
     "text": [
      "BJ\n",
      "SH\n",
      "GZ\n",
      "3\n",
      "2\n",
      "1\n",
      "CQ\n",
      "[10, 'SZ']\n"
     ]
    }
   ],
   "source": [
    "# Loop through list\n",
    "for item in List1:\n",
    "    print item"
   ]
  },
  {
   "cell_type": "code",
   "execution_count": 20,
   "metadata": {
    "collapsed": false
   },
   "outputs": [
    {
     "name": "stdout",
     "output_type": "stream",
     "text": [
      "I say s\n",
      "I say t\n",
      "I say r\n",
      "I say i\n",
      "I say n\n",
      "I say g\n"
     ]
    }
   ],
   "source": [
    "# Loop through string:\n",
    "for chara in 'string':\n",
    "    item = 'I say ' + chara\n",
    "    print item"
   ]
  },
  {
   "cell_type": "code",
   "execution_count": 23,
   "metadata": {
    "collapsed": false
   },
   "outputs": [
    {
     "name": "stdout",
     "output_type": "stream",
     "text": [
      "I say gg\n"
     ]
    }
   ],
   "source": [
    "# If, elif, else: statement\n",
    "if item == 1:\n",
    "    print 'aha'\n",
    "elif item == 2:\n",
    "    print 'enhen'\n",
    "else:\n",
    "    print item + 'g'"
   ]
  },
  {
   "cell_type": "code",
   "execution_count": 24,
   "metadata": {
    "collapsed": false
   },
   "outputs": [
    {
     "data": {
      "text/plain": [
       "True"
      ]
     },
     "execution_count": 24,
     "metadata": {},
     "output_type": "execute_result"
    }
   ],
   "source": [
    "# Other booleans:\n",
    "[1,2,'god'] == [1,2,'god']"
   ]
  },
  {
   "cell_type": "markdown",
   "metadata": {},
   "source": [
    "### 1.2.3 Advanced Item, tuple and dict"
   ]
  },
  {
   "cell_type": "code",
   "execution_count": null,
   "metadata": {
    "collapsed": true
   },
   "outputs": [],
   "source": []
  }
 ],
 "metadata": {
  "kernelspec": {
   "display_name": "Python 2",
   "language": "python",
   "name": "python2"
  },
  "language_info": {
   "codemirror_mode": {
    "name": "ipython",
    "version": 2
   },
   "file_extension": ".py",
   "mimetype": "text/x-python",
   "name": "python",
   "nbconvert_exporter": "python",
   "pygments_lexer": "ipython2",
   "version": "2.7.10"
  }
 },
 "nbformat": 4,
 "nbformat_minor": 0
}
