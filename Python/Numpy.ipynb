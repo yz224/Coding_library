{
 "cells": [
  {
   "cell_type": "markdown",
   "metadata": {},
   "source": [
    "# Use Numpy to support calculation"
   ]
  },
  {
   "cell_type": "code",
   "execution_count": 1,
   "metadata": {
    "collapsed": true
   },
   "outputs": [],
   "source": [
    "import numpy as np"
   ]
  },
  {
   "cell_type": "markdown",
   "metadata": {},
   "source": [
    "## 1. Array\n",
    "#### 1.1Created by list"
   ]
  },
  {
   "cell_type": "code",
   "execution_count": 5,
   "metadata": {
    "collapsed": false
   },
   "outputs": [
    {
     "name": "stdout",
     "output_type": "stream",
     "text": [
      "[1 2 3 4]\n"
     ]
    }
   ],
   "source": [
    "# Create vector array by list\n",
    "my_list1 = [1,2,3,4]\n",
    "my_arr1 = np.array(my_list1)\n",
    "print my_arr1"
   ]
  },
  {
   "cell_type": "code",
   "execution_count": 10,
   "metadata": {
    "collapsed": false
   },
   "outputs": [
    {
     "name": "stdout",
     "output_type": "stream",
     "text": [
      "[[ 1  2  3  4]\n",
      " [ 7  8  9 10]]\n"
     ]
    }
   ],
   "source": [
    "# Create matrix arry by list in list\n",
    "my_list2 = [[1, 2, 3, 4],\n",
    "            [7, 8, 9, 10]]\n",
    "my_arr2 = np.array(my_list2)\n",
    "print my_arr2"
   ]
  },
  {
   "cell_type": "markdown",
   "metadata": {},
   "source": [
    "#### 1.2 Create by numpy: zeros, ones, eye, arange"
   ]
  },
  {
   "cell_type": "code",
   "execution_count": 24,
   "metadata": {
    "collapsed": false
   },
   "outputs": [
    {
     "name": "stdout",
     "output_type": "stream",
     "text": [
      "np.zeros(5) \n",
      "[ 0.  0.  0.  0.  0.] \n",
      "\n",
      "np.zeros([3, 6]) \n",
      "[[ 0.  0.  0.  0.  0.  0.]\n",
      " [ 0.  0.  0.  0.  0.  0.]\n",
      " [ 0.  0.  0.  0.  0.  0.]] \n",
      "\n",
      "np.ones([2, 2]) \n",
      "[[ 1.  1.]\n",
      " [ 1.  1.]] \n",
      "\n",
      "np.eye(5) \n",
      "[[ 1.  0.  0.  0.  0.]\n",
      " [ 0.  1.  0.  0.  0.]\n",
      " [ 0.  0.  1.  0.  0.]\n",
      " [ 0.  0.  0.  1.  0.]\n",
      " [ 0.  0.  0.  0.  1.]]\n"
     ]
    }
   ],
   "source": [
    "# Create all zeros, ones, and identity matrix\n",
    "print 'np.zeros(5)', \"\\n\", np.zeros(5), \"\\n\" # Zeros vector\n",
    "print 'np.zeros([3, 6])', \"\\n\", np.zeros([3, 6]), \"\\n\" # Zeros matrix\n",
    "print \"np.ones([2, 2])\", \"\\n\", np.ones([2, 2]), \"\\n\" # Ones matrix\n",
    "print 'np.eye(5)', '\\n', np.eye(5) # Identity matrix"
   ]
  },
  {
   "cell_type": "code",
   "execution_count": 25,
   "metadata": {
    "collapsed": false
   },
   "outputs": [
    {
     "name": "stdout",
     "output_type": "stream",
     "text": [
      "np.arange(55) [0 1 2 3 4 5 6 7 8]\n"
     ]
    }
   ],
   "source": [
    "# Other than that, we can also create number arrays using arrange (analogy of range)\n",
    "print \"np.arange(9)\", np.arange(9)"
   ]
  },
  {
   "cell_type": "markdown",
   "metadata": {},
   "source": [
    "#### 1.3 Indexing"
   ]
  },
  {
   "cell_type": "code",
   "execution_count": 26,
   "metadata": {
    "collapsed": false
   },
   "outputs": [
    {
     "data": {
      "text/plain": [
       "(2, 4)"
      ]
     },
     "execution_count": 26,
     "metadata": {},
     "output_type": "execute_result"
    }
   ],
   "source": [
    "# Before indexing, we need to know the shape of the array\n",
    "my_arr2.shape"
   ]
  },
  {
   "cell_type": "code",
   "execution_count": 33,
   "metadata": {
    "collapsed": false
   },
   "outputs": [
    {
     "name": "stdout",
     "output_type": "stream",
     "text": [
      "All first row: [1 2 3 4]\n",
      "First item in second row: 7 7\n"
     ]
    }
   ],
   "source": [
    "# Using [] to make index\n",
    "# If no second item, take row by default\n",
    "print 'All first row:', my_arr2[0]\n",
    "print 'First item in second row:', my_arr2[1, 0], my_arr2[1][0] # Both works"
   ]
  },
  {
   "cell_type": "code",
   "execution_count": 60,
   "metadata": {
    "collapsed": false
   },
   "outputs": [
    {
     "name": "stdout",
     "output_type": "stream",
     "text": [
      "[[999   2   3   4]\n",
      " [  7   8   9  10]]\n",
      "[[2 3]\n",
      " [8 9]]\n"
     ]
    }
   ],
   "source": [
    "# Fancy Indexing\n",
    "print my_arr2[[0,1]]\n",
    "print my_arr2[:, [1,2]]"
   ]
  },
  {
   "cell_type": "markdown",
   "metadata": {},
   "source": [
    "#### 1.4 Operation with scalar"
   ]
  },
  {
   "cell_type": "code",
   "execution_count": 39,
   "metadata": {
    "collapsed": false
   },
   "outputs": [
    {
     "name": "stdout",
     "output_type": "stream",
     "text": [
      "my_arr2*2: \n",
      "[[ 2  4  6  8]\n",
      " [14 16 18 20]] \n",
      "\n",
      "my_arr2+2: \n",
      "[[ 3  4  5  6]\n",
      " [ 9 10 11 12]] \n",
      "\n",
      "my_arr2/2: \n",
      "[[0 1 1 2]\n",
      " [3 4 4 5]] \n",
      "\n",
      "my_arr2-2: \n",
      "[[-1  0  1  2]\n",
      " [ 5  6  7  8]] \n",
      "\n",
      "my_arr2**2 \n",
      "[[  1   4   9  16]\n",
      " [ 49  64  81 100]] \n",
      "\n"
     ]
    }
   ],
   "source": [
    "# +, -, *, /, **\n",
    "print 'my_arr2*2:', \"\\n\", my_arr2*2, \"\\n\"\n",
    "print 'my_arr2+2:', \"\\n\", my_arr2+2, \"\\n\"\n",
    "print 'my_arr2/2:', \"\\n\", my_arr2/2, \"\\n\"\n",
    "print 'my_arr2-2:', \"\\n\", my_arr2-2, \"\\n\"\n",
    "print 'my_arr2**2', \"\\n\", my_arr2**2, \"\\n\"\n",
    "# All operation with scalar are independent with each items"
   ]
  },
  {
   "cell_type": "markdown",
   "metadata": {},
   "source": [
    "#### 1.5 ***Slice and Copy"
   ]
  },
  {
   "cell_type": "code",
   "execution_count": 41,
   "metadata": {
    "collapsed": false
   },
   "outputs": [
    {
     "name": "stdout",
     "output_type": "stream",
     "text": [
      "[[1 2 3]\n",
      " [7 8 9]]\n"
     ]
    }
   ],
   "source": [
    "# ***Important*** Slice is a projection from the original. Thus if slice change, the origin changes\n",
    "my_arr3 = my_arr2 [:, 0:3]\n",
    "print my_arr3"
   ]
  },
  {
   "cell_type": "code",
   "execution_count": 42,
   "metadata": {
    "collapsed": false
   },
   "outputs": [
    {
     "name": "stdout",
     "output_type": "stream",
     "text": [
      "[[999   2   3]\n",
      " [  7   8   9]]\n",
      "[[999   2   3   4]\n",
      " [  7   8   9  10]]\n"
     ]
    }
   ],
   "source": [
    "# If my_arr3 changes, the origin my_arr2 also changes\n",
    "my_arr3[0,0] = 999\n",
    "print my_arr3\n",
    "print my_arr2"
   ]
  },
  {
   "cell_type": "code",
   "execution_count": 51,
   "metadata": {
    "collapsed": false
   },
   "outputs": [
    {
     "name": "stdout",
     "output_type": "stream",
     "text": [
      "my_arr2_copy \n",
      "[[-10   2   3   4]\n",
      " [  7   8   9  10]] \n",
      "\n",
      "my_arr2 \n",
      "[[999   2   3   4]\n",
      " [  7   8   9  10]]\n"
     ]
    }
   ],
   "source": [
    "# To really make a copy\n",
    "my_arr2_copy = my_arr2.copy() # Remember the ()\n",
    "my_arr2_copy[0,0] = -10\n",
    "print \"my_arr2_copy\", '\\n', my_arr2_copy, \"\\n\"\n",
    "print \"my_arr2\", \"\\n\", my_arr2"
   ]
  }
 ],
 "metadata": {
  "kernelspec": {
   "display_name": "Python 2",
   "language": "python",
   "name": "python2"
  },
  "language_info": {
   "codemirror_mode": {
    "name": "ipython",
    "version": 2
   },
   "file_extension": ".py",
   "mimetype": "text/x-python",
   "name": "python",
   "nbconvert_exporter": "python",
   "pygments_lexer": "ipython2",
   "version": "2.7.10"
  }
 },
 "nbformat": 4,
 "nbformat_minor": 0
}
